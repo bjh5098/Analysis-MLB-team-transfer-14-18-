{
  "nbformat": 4,
  "nbformat_minor": 0,
  "metadata": {
    "colab": {
      "name": "TermProject.ipynb",
      "provenance": [],
      "collapsed_sections": [],
      "include_colab_link": true
    },
    "kernelspec": {
      "name": "python3",
      "display_name": "Python 3"
    }
  },
  "cells": [
    {
      "cell_type": "markdown",
      "metadata": {
        "id": "view-in-github",
        "colab_type": "text"
      },
      "source": [
        "<a href=\"https://colab.research.google.com/github/bjh5098/Analysis-MLB-team-transfer-14-18-/blob/master/TermProject.ipynb\" target=\"_parent\"><img src=\"https://colab.research.google.com/assets/colab-badge.svg\" alt=\"Open In Colab\"/></a>"
      ]
    },
    {
      "cell_type": "code",
      "metadata": {
        "id": "VZKKZippdsDs",
        "colab_type": "code",
        "colab": {}
      },
      "source": [
        "import networkx as nx\n",
        "import pandas as pd\n",
        "import csv\n",
        "import statistics\n",
        "import numpy as np\n",
        "import matplotlib.pyplot as plt\n",
        "import pylab\n"
      ],
      "execution_count": 0,
      "outputs": []
    },
    {
      "cell_type": "code",
      "metadata": {
        "id": "-HMi7hFceTE0",
        "colab_type": "code",
        "outputId": "d59c1dea-da2b-47f3-d228-b69713d0d6ba",
        "colab": {
          "base_uri": "https://localhost:8080/",
          "height": 35
        }
      },
      "source": [
        "from google.colab import drive\n",
        "drive.mount('/content/drive')"
      ],
      "execution_count": 0,
      "outputs": [
        {
          "output_type": "stream",
          "text": [
            "Drive already mounted at /content/drive; to attempt to forcibly remount, call drive.mount(\"/content/drive\", force_remount=True).\n"
          ],
          "name": "stdout"
        }
      ]
    },
    {
      "cell_type": "code",
      "metadata": {
        "id": "nNOYNZ7RfAg9",
        "colab_type": "code",
        "colab": {}
      },
      "source": [
        "move = pd.read_csv(\"/content/drive/My Drive/Colab Notebooks/My project/move.csv\")"
      ],
      "execution_count": 0,
      "outputs": []
    },
    {
      "cell_type": "code",
      "metadata": {
        "id": "wajuEIMqf1RO",
        "colab_type": "code",
        "colab": {}
      },
      "source": [
        "move"
      ],
      "execution_count": 0,
      "outputs": []
    },
    {
      "cell_type": "code",
      "metadata": {
        "id": "JUiGUEKMhCVa",
        "colab_type": "code",
        "colab": {}
      },
      "source": [
        "movearr = []\n",
        "with open(\"/content/drive/My Drive/Colab Notebooks/My project/move.csv\") as csvfile:\n",
        "  reader = csv.reader(csvfile, quoting=csv.QUOTE_NONNUMERIC)\n",
        "  for row in reader:\n",
        "    movearr.append(row)"
      ],
      "execution_count": 0,
      "outputs": []
    },
    {
      "cell_type": "code",
      "metadata": {
        "id": "Bj8q_ONzjGzX",
        "colab_type": "code",
        "colab": {}
      },
      "source": [
        "MLBdict = {'ATL':0,'MIA':1,'NYN':2,'PHI':3,'WAS':4,'CHN':5,'CIN':6,'MIL':7,'PIT':8,'SLN':9,\n",
        "           'ARI':10,'COL':11,'LAN':12,'SDN':13,'SFN':14,'BAL':15,'BOS':16,'NYA':17,'TBA':18,'TOR':19,\n",
        "           'CHA':20,'CLE':21,'DET':22,'KCA':23,'MIN':24,'HOU':25,'LAA':26,'OAK':27,'SEA':28,'TEX':29}\n",
        "MLBdictr = {0:'ATL',1:'MIA',2:'NYN',3:'PHI',4:'WAS',5:'CHN',6:'CIN',7:'MIL',8:'PIT',9:'SLN',\n",
        "           10:'ARI',11:'COL',12:'LAN',13:'SDN',14:'SFN',15:'BAL',16:'BOS',17:'NYA',18:'TBA',19:'TOR',\n",
        "           20:'CHA',21:'CLE',22:'DET',23:'KCA',24:'MIN',25:'HOU',26:'LAA',27:'OAK',28:'SEA',29:'TEX'}"
      ],
      "execution_count": 0,
      "outputs": []
    },
    {
      "cell_type": "code",
      "metadata": {
        "id": "YHBS_Of0mQEm",
        "colab_type": "code",
        "colab": {}
      },
      "source": [
        ""
      ],
      "execution_count": 0,
      "outputs": []
    },
    {
      "cell_type": "code",
      "metadata": {
        "id": "cFI0ADTwhUot",
        "colab_type": "code",
        "colab": {}
      },
      "source": [
        "network = [[0]*30 for i in range(30)]\n",
        "networkbw = [[0]*30 for i in range(30)]\n",
        "incomeMLB = [0]*30\n",
        "outcomeMLB = [0]*30\n",
        "count = 0\n",
        "for i in range(1,2444):\n",
        "  for j in range(2,9):\n",
        "    if movearr[i][j] == \"\":\n",
        "      break\n",
        "    elif movearr[i][j-1] != movearr[i][j]:##이전팀에서 다음팀으로 옮길시 +1\n",
        "      #방향성 살려서\n",
        "      network[MLBdict[movearr[i][j-1]]][MLBdict[movearr[i][j]]]+=1\n",
        "      #방향성 없이\n",
        "      networkbw[MLBdict[movearr[i][j]]][MLBdict[movearr[i][j-1]]]+=1\n",
        "      networkbw[MLBdict[movearr[i][j-1]]][MLBdict[movearr[i][j]]]+=1\n",
        "      #각팀당 출입\n",
        "      incomeMLB[MLBdict[movearr[i][j]]] +=1\n",
        "      outcomeMLB[MLBdict[movearr[i][j-1]]] +=1\n",
        "      count = count+1\n",
        "    else:\n",
        "      continue\n",
        "\n",
        "\n"
      ],
      "execution_count": 0,
      "outputs": []
    },
    {
      "cell_type": "code",
      "metadata": {
        "id": "mrT2ZWbpfRv8",
        "colab_type": "code",
        "colab": {}
      },
      "source": [
        ""
      ],
      "execution_count": 0,
      "outputs": []
    },
    {
      "cell_type": "code",
      "metadata": {
        "id": "6g6EVfiOcLyX",
        "colab_type": "code",
        "colab": {}
      },
      "source": [
        "incomeMLB"
      ],
      "execution_count": 0,
      "outputs": []
    },
    {
      "cell_type": "code",
      "metadata": {
        "id": "vT3ZGtI7cLlB",
        "colab_type": "code",
        "colab": {}
      },
      "source": [
        "outcomeMLB"
      ],
      "execution_count": 0,
      "outputs": []
    },
    {
      "cell_type": "code",
      "metadata": {
        "id": "I79reW7LcZBW",
        "colab_type": "code",
        "colab": {}
      },
      "source": [
        "inout = [0]*30\n",
        "for i in range (0,30):\n",
        "  inout[i]=incomeMLB[i]-outcomeMLB[i]\n",
        "inout\n"
      ],
      "execution_count": 0,
      "outputs": []
    },
    {
      "cell_type": "code",
      "metadata": {
        "id": "oS_HTlQtcZJP",
        "colab_type": "code",
        "colab": {}
      },
      "source": [
        "networkbw"
      ],
      "execution_count": 0,
      "outputs": []
    },
    {
      "cell_type": "code",
      "metadata": {
        "id": "Bsc8BRmdnfV1",
        "colab_type": "code",
        "colab": {}
      },
      "source": [
        "networklist = [0]*(30*29)\n",
        "k = 0\n",
        "for i in range (0,30):\n",
        "  for j in range (0,30):\n",
        "    if i == j :\n",
        "      continue\n",
        "    else:\n",
        "      networklist[k]=network[i][j]\n",
        "      k = k + 1\n",
        "\n",
        "networklist"
      ],
      "execution_count": 0,
      "outputs": []
    },
    {
      "cell_type": "code",
      "metadata": {
        "id": "7Sdhz7S0tlen",
        "colab_type": "code",
        "colab": {}
      },
      "source": [
        "networklistbw = [0]*(15*29)\n",
        "k = 0\n",
        "for i in range (0,30):\n",
        "  for j in range (i,30):\n",
        "    if i == j :\n",
        "      continue\n",
        "    else:\n",
        "      networklistbw[k]=networkbw[i][j]\n",
        "      k = k + 1\n",
        "\n",
        "networklistbw"
      ],
      "execution_count": 0,
      "outputs": []
    },
    {
      "cell_type": "code",
      "metadata": {
        "id": "EiO-6VETXZ6j",
        "colab_type": "code",
        "colab": {}
      },
      "source": [
        "med = [0]*30\n",
        "mean_n = [0]*30\n",
        "statistics.median(network[0])\n",
        "for i in range(0,30):\n",
        "  med[i] = statistics.median(network[i])\n",
        "  mean_n[i] = statistics.mean(network[i])\n",
        "med\n",
        "mean_n"
      ],
      "execution_count": 0,
      "outputs": []
    },
    {
      "cell_type": "code",
      "metadata": {
        "id": "HdH0ei_AhMsA",
        "colab_type": "code",
        "outputId": "0d3bee2c-786c-4500-cf93-71593e954961",
        "colab": {
          "base_uri": "https://localhost:8080/",
          "height": 35
        }
      },
      "source": [
        "np.percentile(networklist, 80)"
      ],
      "execution_count": 0,
      "outputs": [
        {
          "output_type": "execute_result",
          "data": {
            "text/plain": [
              "4.0"
            ]
          },
          "metadata": {
            "tags": []
          },
          "execution_count": 56
        }
      ]
    },
    {
      "cell_type": "code",
      "metadata": {
        "id": "2gPOkD-3nhVk",
        "colab_type": "code",
        "colab": {}
      },
      "source": [
        "df = pd.DataFrame(network, columns=MLBdict, index=MLBdict, dtype=int )\n",
        "df\n",
        "#df.graph"
      ],
      "execution_count": 0,
      "outputs": []
    },
    {
      "cell_type": "code",
      "metadata": {
        "id": "r48gjKcDeg3H",
        "colab_type": "code",
        "colab": {}
      },
      "source": [
        "dfbw = pd.DataFrame(networkbw, columns=MLBdict, index=MLBdict, dtype=int )\n",
        "dfbw"
      ],
      "execution_count": 0,
      "outputs": []
    },
    {
      "cell_type": "code",
      "metadata": {
        "id": "GxC7ITmZndxV",
        "colab_type": "code",
        "outputId": "53195a1e-c48d-43d7-b500-fdd111a565c2",
        "colab": {
          "base_uri": "https://localhost:8080/",
          "height": 35
        }
      },
      "source": [
        "##nx.draw(network, with_labels=True, node_size = 800, node_color='black', font_color='white', font_size=20)\n",
        "movemean = count / (30*29)\n",
        "movemean"
      ],
      "execution_count": 0,
      "outputs": [
        {
          "output_type": "execute_result",
          "data": {
            "text/plain": [
              "2.2091954022988505"
            ]
          },
          "metadata": {
            "tags": []
          },
          "execution_count": 49
        }
      ]
    },
    {
      "cell_type": "code",
      "metadata": {
        "id": "GE-hSd6fdpvY",
        "colab_type": "code",
        "outputId": "b2e17dc1-a306-45d0-8611-1a068e1158c5",
        "colab": {
          "base_uri": "https://localhost:8080/",
          "height": 35
        }
      },
      "source": [
        "movemeanbw = count / ((30*29)/2)\n",
        "movemeanbw"
      ],
      "execution_count": 0,
      "outputs": [
        {
          "output_type": "execute_result",
          "data": {
            "text/plain": [
              "4.418390804597701"
            ]
          },
          "metadata": {
            "tags": []
          },
          "execution_count": 20
        }
      ]
    },
    {
      "cell_type": "code",
      "metadata": {
        "id": "LV9CHJOQnYb1",
        "colab_type": "code",
        "outputId": "a9981b94-72f6-40f1-e9a5-7bdc405b3c5f",
        "colab": {
          "base_uri": "https://localhost:8080/",
          "height": 319
        }
      },
      "source": [
        "dg = nx.DiGraph()\n",
        "\n",
        "for i in range(30):\n",
        "  for j in range(30):\n",
        "    if i == j :\n",
        "      continue\n",
        "    else :\n",
        "      if network[i][j] > np.percentile(networklist,99.5) :\n",
        "        dg.add_weighted_edges_from([(MLBdictr[i],MLBdictr[j],network[i][j])])\n",
        "      #(i,j,network[i][j])\n",
        "      #dg.add_weighted_edges_from([(i,j,network[i][j])])\n",
        "val_map = {'ATL':0,'MIA':0,'NYN':0,'PHI':0,'WAS':0,'CHN':1,'CIN':1,'MIL':1,'PIT':1,'SLN':1,\n",
        "           'ARI':2,'COL':2,'LAN':2,'SDN':2,'SFN':2,'BAL':3,'BOS':3,'NYA':3,'TBA':3,'TOR':3,\n",
        "           'CHA':4,'CLE':4,'DET':4,'KCA':4,'MIN':4,'HOU':5,'LAA':5,'OAK':5,'SEA':5,'TEX':5}\n",
        "values = [val_map.get(node, 1.0) for node in dg.nodes()]\n",
        "nx.draw(dg, node_color = values, with_labels=True, font_color='white')"
      ],
      "execution_count": 0,
      "outputs": [
        {
          "output_type": "display_data",
          "data": {
            "image/png": "[encoded data removed]",
            "text/plain": [
              "<Figure size 432x288 with 1 Axes>"
            ]
          },
          "metadata": {
            "tags": []
          }
        }
      ]
    },
    {
      "cell_type": "code",
      "metadata": {
        "id": "uUpqDFKXmvnW",
        "colab_type": "code",
        "colab": {}
      },
      "source": [
        ""
      ],
      "execution_count": 0,
      "outputs": []
    },
    {
      "cell_type": "code",
      "metadata": {
        "id": "45tBuXZPmh21",
        "colab_type": "code",
        "colab": {}
      },
      "source": [
        "NLE = nx.Graph()\n",
        "for i in range(0,5):\n",
        "  for j in range(0,5):\n",
        "    if i == j :\n",
        "      continue\n",
        "    else :\n",
        "      if networkbw[i][j] > movemeanbw :\n",
        "        NLE.add_weighted_edges_from([(MLBdictr[i],MLBdictr[j],networkbw[i][j])])\n",
        "      #(i,j,network[i][j])\n",
        "      #dg.add_weighted_edges_from([(i,j,network[i][j])])\n",
        "val_map = {'ATL':0,'MIA':0,'NYN':0,'PHI':0,'WAS':0,'CHN':1,'CIN':1,'MIL':1,'PIT':1,'SLN':1,\n",
        "           'ARI':2,'COL':2,'LAN':2,'SDN':2,'SFN':2,'BAL':3,'BOS':3,'NYA':3,'TBA':3,'TOR':3,\n",
        "           'CHA':4,'CLE':4,'DET':4,'KCA':4,'MIN':4,'HOU':5,'LAA':5,'OAK':5,'SEA':5,'TEX':5}\n",
        "values = [val_map.get(node, 1.0) for node in dg.nodes()]\n",
        "nx.draw(dg, node_color = values, with_labels=True, font_color='white')"
      ],
      "execution_count": 0,
      "outputs": []
    },
    {
      "cell_type": "code",
      "metadata": {
        "id": "33GXBv84gioL",
        "colab_type": "code",
        "outputId": "bd9cf25d-563a-43d9-cacc-df1d9c7f30fd",
        "colab": {
          "base_uri": "https://localhost:8080/",
          "height": 319
        }
      },
      "source": [
        "NL = nx.DiGraph()\n",
        "count=0\n",
        "for i in range(0,15):\n",
        "  for j in range(0,15):\n",
        "    if i == j :\n",
        "      continue\n",
        "    else :\n",
        "      if network[i][j] > np.percentile(networklist,80) :\n",
        "        NL.add_weighted_edges_from([(MLBdictr[i],MLBdictr[j],network[i][j])])\n",
        "        count = count + 1\n",
        "      \n",
        "      #(i,j,network[i][j])\n",
        "      #dg.add_weighted_edges_from([(i,j,network[i][j])])\n",
        "val_map = {'ATL':0,'MIA':0,'NYN':0,'PHI':0,'WAS':0,'CHN':1,'CIN':1,'MIL':1,'PIT':1,'SLN':1,\n",
        "           'ARI':2,'COL':2,'LAN':2,'SDN':2,'SFN':2,'BAL':3,'BOS':3,'NYA':3,'TBA':3,'TOR':3,\n",
        "           'CHA':4,'CLE':4,'DET':4,'KCA':4,'MIN':4,'HOU':5,'LAA':5,'OAK':5,'SEA':5,'TEX':5}\n",
        "values = [val_map.get(node, 1.0) for node in NL.nodes()]\n",
        "nx.draw(NL, node_color = values, with_labels=True, font_color='white')"
      ],
      "execution_count": 0,
      "outputs": [
        {
          "output_type": "display_data",
          "data": {
            "image/png": "[encoded data removed]",
            "text/plain": [
              "<Figure size 432x288 with 1 Axes>"
            ]
          },
          "metadata": {
            "tags": []
          }
        }
      ]
    },
    {
      "cell_type": "code",
      "metadata": {
        "id": "05DlNx_nC7S9",
        "colab_type": "code",
        "outputId": "491021ab-fa4e-4b67-e9f0-958af581cf7c",
        "colab": {
          "base_uri": "https://localhost:8080/",
          "height": 35
        }
      },
      "source": [
        "count"
      ],
      "execution_count": 0,
      "outputs": [
        {
          "output_type": "execute_result",
          "data": {
            "text/plain": [
              "15"
            ]
          },
          "metadata": {
            "tags": []
          },
          "execution_count": 149
        }
      ]
    },
    {
      "cell_type": "code",
      "metadata": {
        "id": "FENVSG5VjCHz",
        "colab_type": "code",
        "outputId": "9e905576-6c7d-4ab5-e129-307d93a14043",
        "colab": {
          "base_uri": "https://localhost:8080/",
          "height": 319
        }
      },
      "source": [
        "AL = nx.DiGraph()\n",
        "count=0\n",
        "for i in range(15,30):\n",
        "  for j in range(15,30):\n",
        "    if i == j :\n",
        "      continue\n",
        "    else :\n",
        "      if network[i][j] > np.percentile(networklist,80) :\n",
        "        AL.add_weighted_edges_from([(MLBdictr[i],MLBdictr[j],network[i][j])])\n",
        "        count = count + 1\n",
        "      #(i,j,network[i][j])\n",
        "      #dg.add_weighted_edges_from([(i,j,network[i][j])])\n",
        "val_map = {'ATL':0,'MIA':0,'NYN':0,'PHI':0,'WAS':0,'CHN':1,'CIN':1,'MIL':1,'PIT':1,'SLN':1,\n",
        "           'ARI':2,'COL':2,'LAN':2,'SDN':2,'SFN':2,'BAL':3,'BOS':3,'NYA':3,'TBA':3,'TOR':3,\n",
        "           'CHA':4,'CLE':4,'DET':4,'KCA':4,'MIN':4,'HOU':5,'LAA':5,'OAK':5,'SEA':5,'TEX':5}\n",
        "values = [val_map.get(node, 1.0) for node in AL.nodes()]\n",
        "nx.draw(AL, node_color = values, with_labels=True, font_color='white')"
      ],
      "execution_count": 0,
      "outputs": [
        {
          "output_type": "display_data",
          "data": {
            "image/png": "[encoded data removed]",
            "text/plain": [
              "<Figure size 432x288 with 1 Axes>"
            ]
          },
          "metadata": {
            "tags": []
          }
        }
      ]
    },
    {
      "cell_type": "code",
      "metadata": {
        "id": "YfFN5XDPVFHa",
        "colab_type": "code",
        "outputId": "c1a1aa21-a203-46d6-83c7-00b184276752",
        "colab": {
          "base_uri": "https://localhost:8080/",
          "height": 35
        }
      },
      "source": [
        "count"
      ],
      "execution_count": 0,
      "outputs": [
        {
          "output_type": "execute_result",
          "data": {
            "text/plain": [
              "28"
            ]
          },
          "metadata": {
            "tags": []
          },
          "execution_count": 151
        }
      ]
    },
    {
      "cell_type": "markdown",
      "metadata": {
        "id": "ROBvf9FFU_Sv",
        "colab_type": "text"
      },
      "source": [
        "각각 연결중심성 계산하기"
      ]
    },
    {
      "cell_type": "code",
      "metadata": {
        "id": "0Wh4_RfLSouj",
        "colab_type": "code",
        "outputId": "b8a0d2e0-ae4c-4868-a82e-40834ee65d07",
        "colab": {
          "base_uri": "https://localhost:8080/",
          "height": 563
        }
      },
      "source": [
        "incomeMLB"
      ],
      "execution_count": 0,
      "outputs": [
        {
          "output_type": "execute_result",
          "data": {
            "text/plain": [
              "[96,\n",
              " 68,\n",
              " 48,\n",
              " 56,\n",
              " 54,\n",
              " 74,\n",
              " 52,\n",
              " 72,\n",
              " 62,\n",
              " 41,\n",
              " 60,\n",
              " 34,\n",
              " 74,\n",
              " 73,\n",
              " 49,\n",
              " 58,\n",
              " 56,\n",
              " 67,\n",
              " 78,\n",
              " 89,\n",
              " 60,\n",
              " 59,\n",
              " 52,\n",
              " 56,\n",
              " 53,\n",
              " 42,\n",
              " 92,\n",
              " 81,\n",
              " 99,\n",
              " 67]"
            ]
          },
          "metadata": {
            "tags": []
          },
          "execution_count": 136
        }
      ]
    },
    {
      "cell_type": "code",
      "metadata": {
        "id": "Jxz-lsmZHZPu",
        "colab_type": "code",
        "outputId": "feee9496-25f6-4559-e406-78643ed2cabc",
        "colab": {
          "base_uri": "https://localhost:8080/",
          "height": 563
        }
      },
      "source": [
        "outcomeMLB"
      ],
      "execution_count": 0,
      "outputs": [
        {
          "output_type": "execute_result",
          "data": {
            "text/plain": [
              "[87,\n",
              " 59,\n",
              " 55,\n",
              " 54,\n",
              " 50,\n",
              " 68,\n",
              " 48,\n",
              " 65,\n",
              " 71,\n",
              " 53,\n",
              " 64,\n",
              " 53,\n",
              " 64,\n",
              " 78,\n",
              " 41,\n",
              " 59,\n",
              " 63,\n",
              " 82,\n",
              " 75,\n",
              " 80,\n",
              " 56,\n",
              " 49,\n",
              " 53,\n",
              " 69,\n",
              " 60,\n",
              " 53,\n",
              " 80,\n",
              " 73,\n",
              " 83,\n",
              " 77]"
            ]
          },
          "metadata": {
            "tags": []
          },
          "execution_count": 137
        }
      ]
    },
    {
      "cell_type": "code",
      "metadata": {
        "id": "cv-46Tf7HbRw",
        "colab_type": "code",
        "outputId": "0dc61763-f18a-4b32-e7c1-0296e1d078c3",
        "colab": {
          "base_uri": "https://localhost:8080/",
          "height": 563
        }
      },
      "source": [
        "inout"
      ],
      "execution_count": 0,
      "outputs": [
        {
          "output_type": "execute_result",
          "data": {
            "text/plain": [
              "[9,\n",
              " 9,\n",
              " -7,\n",
              " 2,\n",
              " 4,\n",
              " 6,\n",
              " 4,\n",
              " 7,\n",
              " -9,\n",
              " -12,\n",
              " -4,\n",
              " -19,\n",
              " 10,\n",
              " -5,\n",
              " 8,\n",
              " -1,\n",
              " -7,\n",
              " -15,\n",
              " 3,\n",
              " 9,\n",
              " 4,\n",
              " 10,\n",
              " -1,\n",
              " -13,\n",
              " -7,\n",
              " -11,\n",
              " 12,\n",
              " 8,\n",
              " 16,\n",
              " -10]"
            ]
          },
          "metadata": {
            "tags": []
          },
          "execution_count": 139
        }
      ]
    },
    {
      "cell_type": "code",
      "metadata": {
        "id": "H2bjq_8AHgLp",
        "colab_type": "code",
        "colab": {}
      },
      "source": [
        ""
      ],
      "execution_count": 0,
      "outputs": []
    }
  ]
}